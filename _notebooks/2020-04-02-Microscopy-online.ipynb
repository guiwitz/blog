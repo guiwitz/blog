{
 "cells": [
  {
   "cell_type": "markdown",
   "metadata": {},
   "source": [
    "# \"Online general resources on microscopy\"\n",
    "> \"Online general resources on microscopy\"\n",
    "- toc: true \n",
    "- badges: false\n",
    "- comments: false\n",
    "- logoimage: \"https://raw.githubusercontent.com/guiwitz/blog/master/images/mic_logo.png\""
   ]
  },
  {
   "cell_type": "code",
   "execution_count": 8,
   "metadata": {},
   "outputs": [],
   "source": [
    "#hide\n",
    "import warnings\n",
    "warnings.filterwarnings(\"ignore\")\n",
    "import pandas as pd\n",
    "from IPython.display import display, Markdown, Latex, HTML"
   ]
  },
  {
   "cell_type": "code",
   "execution_count": 13,
   "metadata": {},
   "outputs": [],
   "source": [
    "#hide\n",
    "mic = pd.read_excel('microscopy_online.xlsx',skiprows=1,header = 1)\n",
    "\n",
    "#reomove empty lines\n",
    "toremove = []\n",
    "for i in range(len(mic)):\n",
    "    if pd.isna(mic.iloc[i].Subject):\n",
    "        toremove.append(i)\n",
    "mic = mic.drop(labels=toremove)\n",
    "\n",
    "#split tables by categories\n",
    "tosplit = []\n",
    "for i in range(len(mic)):\n",
    "    if pd.isna(mic.iloc[i].Description):\n",
    "        tosplit.append(i)\n",
    "pd_list = []\n",
    "names = []\n",
    "for i in range(len(tosplit)-1):\n",
    "    names.append(mic.iloc[tosplit[i]].Subject)\n",
    "    pd_list.append(mic.iloc[tosplit[i]+1:tosplit[i+1]])\n",
    "    "
   ]
  },
  {
   "cell_type": "code",
   "execution_count": 14,
   "metadata": {},
   "outputs": [
    {
     "data": {
      "text/markdown": [
       "## Current live offers"
      ],
      "text/plain": [
       "<IPython.core.display.Markdown object>"
      ]
     },
     "metadata": {},
     "output_type": "display_data"
    },
    {
     "data": {
      "text/html": [
       "<table border=\"1\" class=\"dataframe\">\n",
       "  <thead>\n",
       "    <tr style=\"text-align: right;\">\n",
       "      <th>Subject</th>\n",
       "      <th>Description</th>\n",
       "      <th>Type</th>\n",
       "      <th>Audience</th>\n",
       "      <th>Comment</th>\n",
       "      <th>Link</th>\n",
       "    </tr>\n",
       "  </thead>\n",
       "  <tbody>\n",
       "    <tr>\n",
       "      <td>Image processing</td>\n",
       "      <td>Series of online live courses offered through Neubias 14-30 April via Zoom</td>\n",
       "      <td>Live interactive learning</td>\n",
       "      <td>All levels, freely accessible but requires registration</td>\n",
       "      <td></td>\n",
       "      <td><a href=\"http://eubias.org/NEUBIAS/training-schools/neubias-academy-home/\" target=\"_blank\">http://eubias.org/NEUBIAS/training-schools/neubias-academy-home/</a></td>\n",
       "    </tr>\n",
       "  </tbody>\n",
       "</table>"
      ],
      "text/plain": [
       "<IPython.core.display.HTML object>"
      ]
     },
     "metadata": {},
     "output_type": "display_data"
    },
    {
     "data": {
      "text/markdown": [
       "## General microscopy"
      ],
      "text/plain": [
       "<IPython.core.display.Markdown object>"
      ]
     },
     "metadata": {},
     "output_type": "display_data"
    },
    {
     "data": {
      "text/html": [
       "<table border=\"1\" class=\"dataframe\">\n",
       "  <thead>\n",
       "    <tr style=\"text-align: right;\">\n",
       "      <th>Subject</th>\n",
       "      <th>Description</th>\n",
       "      <th>Type</th>\n",
       "      <th>Audience</th>\n",
       "      <th>Comment</th>\n",
       "      <th>Link</th>\n",
       "    </tr>\n",
       "  </thead>\n",
       "  <tbody>\n",
       "    <tr>\n",
       "      <td>Microscopy</td>\n",
       "      <td>iBiology colletion of videos about all aspescts of microscopy</td>\n",
       "      <td>Video</td>\n",
       "      <td>All levels, freely accessible</td>\n",
       "      <td></td>\n",
       "      <td><a href=\"https://www.ibiology.org/online-biology-courses/microscopy-series/\" target=\"_blank\">https://www.ibiology.org/online-biology-courses/microscopy-series/</a></td>\n",
       "    </tr>\n",
       "    <tr>\n",
       "      <td>Bioimage analysis</td>\n",
       "      <td>iBiology colletion of videos about main aspects of bioimage analysis</td>\n",
       "      <td>Video</td>\n",
       "      <td>All levels, freely accessible</td>\n",
       "      <td></td>\n",
       "      <td><a href=\"https://www.ibiology.org/techniques/bioimage-analysis/\" target=\"_blank\">https://www.ibiology.org/techniques/bioimage-analysis/</a></td>\n",
       "    </tr>\n",
       "    <tr>\n",
       "      <td>Methods in microscopy</td>\n",
       "      <td>Interactive cours on a large variety of microscopy techniques</td>\n",
       "      <td>Interactive course</td>\n",
       "      <td>All levels, freely accessible</td>\n",
       "      <td></td>\n",
       "      <td><a href=\"https://myscope.training/\" target=\"_blank\">https://myscope.training/</a></td>\n",
       "    </tr>\n",
       "    <tr>\n",
       "      <td>Microscopy techniques</td>\n",
       "      <td>Karolinska Institute: Microscopy teaching materials</td>\n",
       "      <td>Online materials</td>\n",
       "      <td>All levels, freely accessible</td>\n",
       "      <td></td>\n",
       "      <td><a href=\"https://ki.se/en/bionut/teaching-material\" target=\"_blank\">https://ki.se/en/bionut/teaching-material</a></td>\n",
       "    </tr>\n",
       "    <tr>\n",
       "      <td>Quantitative confocal microscopy</td>\n",
       "      <td>Tutorial: guidance for quantitative confocal microscopy</td>\n",
       "      <td>Paper</td>\n",
       "      <td>Everyone</td>\n",
       "      <td>Access to Nature required</td>\n",
       "      <td><a href=\"https://www.nature.com/articles/s41596-020-0313-9\" target=\"_blank\">https://www.nature.com/articles/s41596-020-0313-9</a></td>\n",
       "    </tr>\n",
       "    <tr>\n",
       "      <td>Cryo-Electron Microscopy</td>\n",
       "      <td>CalTech course on cryo-EM and 3D-EM including fundamental concepts, sample preparation, data processing etc.</td>\n",
       "      <td>Interactive course</td>\n",
       "      <td>Beginner</td>\n",
       "      <td></td>\n",
       "      <td><a href=\"http://cryo-em-course.caltech.edu/cryoem_welcome\" target=\"_blank\">http://cryo-em-course.caltech.edu/cryoem_welcome</a></td>\n",
       "    </tr>\n",
       "  </tbody>\n",
       "</table>"
      ],
      "text/plain": [
       "<IPython.core.display.HTML object>"
      ]
     },
     "metadata": {},
     "output_type": "display_data"
    },
    {
     "data": {
      "text/markdown": [
       "## Learning Fiji"
      ],
      "text/plain": [
       "<IPython.core.display.Markdown object>"
      ]
     },
     "metadata": {},
     "output_type": "display_data"
    },
    {
     "data": {
      "text/html": [
       "<table border=\"1\" class=\"dataframe\">\n",
       "  <thead>\n",
       "    <tr style=\"text-align: right;\">\n",
       "      <th>Subject</th>\n",
       "      <th>Description</th>\n",
       "      <th>Type</th>\n",
       "      <th>Audience</th>\n",
       "      <th>Comment</th>\n",
       "      <th>Link</th>\n",
       "    </tr>\n",
       "  </thead>\n",
       "  <tbody>\n",
       "    <tr>\n",
       "      <td>Fiji</td>\n",
       "      <td>Introduction to Fiji with slides (Unibe course)</td>\n",
       "      <td>Slides</td>\n",
       "      <td>Beginner, freely accessible</td>\n",
       "      <td></td>\n",
       "      <td><a href=\"https://bit.ly/fiji_unibe\" target=\"_blank\">https://bit.ly/fiji_unibe</a></td>\n",
       "    </tr>\n",
       "    <tr>\n",
       "      <td>Fiji</td>\n",
       "      <td>Very complete intro to Fiji with slides</td>\n",
       "      <td>Slides</td>\n",
       "      <td>Beginner, freely accessible</td>\n",
       "      <td></td>\n",
       "      <td><a href=\"http://pcwww.liv.ac.uk/~cci/reveal_ia/ImageAnalysisWithFiji.html\" target=\"_blank\">http://pcwww.liv.ac.uk/~cci/reveal_ia/ImageAnalysisWithFiji.html</a></td>\n",
       "    </tr>\n",
       "    <tr>\n",
       "      <td>Fiji</td>\n",
       "      <td>MOOC course from EPFL on biimage processing with Fiji</td>\n",
       "      <td>Interactive course</td>\n",
       "      <td>Beginner, free with EdX registration</td>\n",
       "      <td></td>\n",
       "      <td><a href=\"https://www.edx.org/course/image-processing-and-analysis-for-life-scientists\" target=\"_blank\">https://www.edx.org/course/image-processing-and-analysis-for-life-scientists</a></td>\n",
       "    </tr>\n",
       "    <tr>\n",
       "      <td>Fiji</td>\n",
       "      <td>Bioimage processing intro</td>\n",
       "      <td>Video</td>\n",
       "      <td>Beginner, currently in development (as of April 2020)</td>\n",
       "      <td></td>\n",
       "      <td><a href=\"https://www.youtube.com/playlist?list=PL5ESQNfM5lc7SAMstEu082ivW4BDMvd0U\" target=\"_blank\">https://www.youtube.com/playlist?list=PL5ESQNfM5lc7SAMstEu082ivW4BDMvd0U</a></td>\n",
       "    </tr>\n",
       "  </tbody>\n",
       "</table>"
      ],
      "text/plain": [
       "<IPython.core.display.HTML object>"
      ]
     },
     "metadata": {},
     "output_type": "display_data"
    },
    {
     "data": {
      "text/markdown": [
       "## Image processing with Python"
      ],
      "text/plain": [
       "<IPython.core.display.Markdown object>"
      ]
     },
     "metadata": {},
     "output_type": "display_data"
    },
    {
     "data": {
      "text/html": [
       "<table border=\"1\" class=\"dataframe\">\n",
       "  <thead>\n",
       "    <tr style=\"text-align: right;\">\n",
       "      <th>Subject</th>\n",
       "      <th>Description</th>\n",
       "      <th>Type</th>\n",
       "      <th>Audience</th>\n",
       "      <th>Comment</th>\n",
       "      <th>Link</th>\n",
       "    </tr>\n",
       "  </thead>\n",
       "  <tbody>\n",
       "    <tr>\n",
       "      <td>Python</td>\n",
       "      <td>Unibe Python course on image processing for beginners (non programmers)</td>\n",
       "      <td>Online programming</td>\n",
       "      <td>Beginner, freely accessible</td>\n",
       "      <td></td>\n",
       "      <td><a href=\"https://github.com/guiwitz/PyImageCourse_beginner\" target=\"_blank\">https://github.com/guiwitz/PyImageCourse_beginner</a></td>\n",
       "    </tr>\n",
       "    <tr>\n",
       "      <td>Python</td>\n",
       "      <td>Unibe Python course on image processing (mid-level to advanced)</td>\n",
       "      <td>Online programming</td>\n",
       "      <td>Advanced, freely accessible</td>\n",
       "      <td></td>\n",
       "      <td><a href=\"https://github.com/guiwitz/PyImageCourse\" target=\"_blank\">https://github.com/guiwitz/PyImageCourse</a></td>\n",
       "    </tr>\n",
       "    <tr>\n",
       "      <td>Python</td>\n",
       "      <td>Python for Bioimage Analysis</td>\n",
       "      <td>Online programming</td>\n",
       "      <td>All levels, freely accessible</td>\n",
       "      <td></td>\n",
       "      <td><a href=\"https://github.com/IAFIG-RMS/Python-for-Bioimage-Analysis\" target=\"_blank\">https://github.com/IAFIG-RMS/Python-for-Bioimage-Analysis</a></td>\n",
       "    </tr>\n",
       "  </tbody>\n",
       "</table>"
      ],
      "text/plain": [
       "<IPython.core.display.HTML object>"
      ]
     },
     "metadata": {},
     "output_type": "display_data"
    },
    {
     "data": {
      "text/markdown": [
       "## General programming"
      ],
      "text/plain": [
       "<IPython.core.display.Markdown object>"
      ]
     },
     "metadata": {},
     "output_type": "display_data"
    },
    {
     "data": {
      "text/html": [
       "<table border=\"1\" class=\"dataframe\">\n",
       "  <thead>\n",
       "    <tr style=\"text-align: right;\">\n",
       "      <th>Subject</th>\n",
       "      <th>Description</th>\n",
       "      <th>Type</th>\n",
       "      <th>Audience</th>\n",
       "      <th>Comment</th>\n",
       "      <th>Link</th>\n",
       "    </tr>\n",
       "  </thead>\n",
       "  <tbody>\n",
       "    <tr>\n",
       "      <td>R</td>\n",
       "      <td>Online R primer for beginners</td>\n",
       "      <td>Online tutorials</td>\n",
       "      <td>Beginner, freely accessible</td>\n",
       "      <td></td>\n",
       "      <td><a href=\"https://rstudio.cloud/learn/primers\" target=\"_blank\">https://rstudio.cloud/learn/primers</a></td>\n",
       "    </tr>\n",
       "    <tr>\n",
       "      <td>Python</td>\n",
       "      <td>Python for beginners</td>\n",
       "      <td>Online programming</td>\n",
       "      <td>Beginner, freely accessible</td>\n",
       "      <td></td>\n",
       "      <td><a href=\"https://github.com/ChasNelson1990/python-zero-to-hero-beginners-course\" target=\"_blank\">https://github.com/ChasNelson1990/python-zero-to-hero-beginners-course</a></td>\n",
       "    </tr>\n",
       "  </tbody>\n",
       "</table>"
      ],
      "text/plain": [
       "<IPython.core.display.HTML object>"
      ]
     },
     "metadata": {},
     "output_type": "display_data"
    },
    {
     "data": {
      "text/markdown": [
       "## Learning resources from companies active in microscopy"
      ],
      "text/plain": [
       "<IPython.core.display.Markdown object>"
      ]
     },
     "metadata": {},
     "output_type": "display_data"
    },
    {
     "data": {
      "text/html": [
       "<table border=\"1\" class=\"dataframe\">\n",
       "  <thead>\n",
       "    <tr style=\"text-align: right;\">\n",
       "      <th>Subject</th>\n",
       "      <th>Description</th>\n",
       "      <th>Type</th>\n",
       "      <th>Audience</th>\n",
       "      <th>Comment</th>\n",
       "      <th>Link</th>\n",
       "    </tr>\n",
       "  </thead>\n",
       "  <tbody>\n",
       "    <tr>\n",
       "      <td>Methods in microscopy (Nikon)</td>\n",
       "      <td>Online recourse for information on all microscopy methods</td>\n",
       "      <td>Online tutorials</td>\n",
       "      <td>All levels, freely accessible</td>\n",
       "      <td></td>\n",
       "      <td><a href=\"https://www.microscopyu.com/\" target=\"_blank\">https://www.microscopyu.com/</a></td>\n",
       "    </tr>\n",
       "    <tr>\n",
       "      <td>Arivis Webinar Series</td>\n",
       "      <td>Each Thursday: Free Webinar Series on Image Visualization &amp; Analysis across Microscopy Methods</td>\n",
       "      <td>Webinars</td>\n",
       "      <td>Everyone, Free access</td>\n",
       "      <td>registration required</td>\n",
       "      <td><a href=\"https://www.arivis.com/en/imaging-science/free-webinar-series-image-visualization-analysis-across-microscopy-methods\" target=\"_blank\">https://www.arivis.com/en/imaging-science/free-webinar-series-image-visualization-analysis-across-microscopy-methods</a></td>\n",
       "    </tr>\n",
       "    <tr>\n",
       "      <td>Fluorescence microscopy (ThermoFisher)</td>\n",
       "      <td>ThermoFisher / Molecular Probes \"School of Fluorescence\"</td>\n",
       "      <td>Online materials</td>\n",
       "      <td>All levels, freely accessible</td>\n",
       "      <td></td>\n",
       "      <td><a href=\"https://www.thermofisher.com/de/de/home/life-science/cell-analysis/cell-analysis-learning-center/molecular-probes-school-of-fluorescence.html\" target=\"_blank\">https://www.thermofisher.com/de/de/home/life-science/cell-analysis/cell-analysis-learning-center/molecular-probes-school-of-fluorescence.html</a></td>\n",
       "    </tr>\n",
       "    <tr>\n",
       "      <td>Time-resolved microscopy (Picoquant)</td>\n",
       "      <td>Webinars by Picoquant  addressing all topics of time-resolved microscopy</td>\n",
       "      <td>Webinars</td>\n",
       "      <td>Advanced level</td>\n",
       "      <td>registration required</td>\n",
       "      <td><a href=\"https://www.picoquant.com/events/workshops-and-courses/category/webinar\" target=\"_blank\">https://www.picoquant.com/events/workshops-and-courses/category/webinar</a></td>\n",
       "    </tr>\n",
       "  </tbody>\n",
       "</table>"
      ],
      "text/plain": [
       "<IPython.core.display.HTML object>"
      ]
     },
     "metadata": {},
     "output_type": "display_data"
    }
   ],
   "source": [
    "#hide_input\n",
    "pd.set_option('display.max_colwidth', -1)\n",
    "#display(Markdown('# Online general resources on microscopy'))\n",
    "for x in range(len(names)):\n",
    "    display(Markdown('## '+names[x]))\n",
    "    display(HTML(pd_list[x].to_html(render_links=True,\n",
    "                                              max_rows = None,\n",
    "                                              index = False,\n",
    "                                              na_rep = '')))"
   ]
  },
  {
   "cell_type": "code",
   "execution_count": null,
   "metadata": {},
   "outputs": [],
   "source": []
  }
 ],
 "metadata": {
  "kernelspec": {
   "display_name": "Python 3",
   "language": "python",
   "name": "python3"
  },
  "language_info": {
   "codemirror_mode": {
    "name": "ipython",
    "version": 3
   },
   "file_extension": ".py",
   "mimetype": "text/x-python",
   "name": "python",
   "nbconvert_exporter": "python",
   "pygments_lexer": "ipython3",
   "version": "3.7.3"
  },
  "toc": {
   "base_numbering": 1,
   "nav_menu": {},
   "number_sections": false,
   "sideBar": true,
   "skip_h1_title": false,
   "title_cell": "Table of Contents",
   "title_sidebar": "Contents",
   "toc_cell": false,
   "toc_position": {},
   "toc_section_display": true,
   "toc_window_display": true
  }
 },
 "nbformat": 4,
 "nbformat_minor": 2
}
